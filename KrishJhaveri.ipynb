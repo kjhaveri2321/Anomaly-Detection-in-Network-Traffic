{
  "cells": [
    {
      "cell_type": "markdown",
      "metadata": {
        "id": "view-in-github",
        "colab_type": "text"
      },
      "source": [
        "<a href=\"https://colab.research.google.com/github/kjhaveri2321/Anomaly-Detection-in-Network-Traffic/blob/main/KrishJhaveri.ipynb\" target=\"_parent\"><img src=\"https://colab.research.google.com/assets/colab-badge.svg\" alt=\"Open In Colab\"/></a>"
      ]
    },
    {
      "cell_type": "markdown",
      "metadata": {
        "id": "0OvRNhnyCIP6"
      },
      "source": [
        "\n",
        "# Installing and Importing Required Libraries\n"
      ]
    },
    {
      "cell_type": "code",
      "execution_count": null,
      "metadata": {
        "id": "dhxbhdRhVgbv"
      },
      "outputs": [],
      "source": [
        "import numpy as np\n",
        "import pandas as pd\n",
        "import matplotlib.pyplot as plt\n",
        "import seaborn as sns\n",
        "from sklearn.preprocessing import LabelEncoder, OneHotEncoder, MinMaxScaler\n",
        "from sklearn.model_selection import train_test_split\n",
        "from sklearn.ensemble import RandomForestClassifier\n",
        "from sklearn.tree import DecisionTreeClassifier\n",
        "from sklearn.ensemble import IsolationForest\n",
        "from sklearn.svm import SVC\n",
        "from sklearn.metrics import accuracy_score, classification_report, confusion_matrix\n",
        "from imblearn.over_sampling import SMOTE\n",
        "from imblearn.under_sampling import RandomUnderSampler\n",
        "from sklearn.feature_selection import VarianceThreshold\n",
        "\n",
        "\n"
      ]
    },
    {
      "cell_type": "markdown",
      "metadata": {
        "id": "dmjdgdlrCqvX"
      },
      "source": [
        "#Loading the 10% KDDCup99 Dataset\n",
        "Load and inspect the dataset"
      ]
    },
    {
      "cell_type": "code",
      "execution_count": null,
      "metadata": {
        "colab": {
          "base_uri": "https://localhost:8080/",
          "height": 273
        },
        "id": "FMLeg2twhfNM",
        "outputId": "20d766b7-02f3-4da7-f9f1-8844cf6c7bed"
      },
      "outputs": [
        {
          "output_type": "stream",
          "name": "stdout",
          "text": [
            "Dataset Shape: (494021, 42)\n"
          ]
        },
        {
          "output_type": "execute_result",
          "data": {
            "text/plain": [
              "   duration protocol_type service flag  src_bytes  dst_bytes  land  \\\n",
              "0         0           tcp    http   SF        181       5450     0   \n",
              "1         0           tcp    http   SF        239        486     0   \n",
              "2         0           tcp    http   SF        235       1337     0   \n",
              "3         0           tcp    http   SF        219       1337     0   \n",
              "4         0           tcp    http   SF        217       2032     0   \n",
              "\n",
              "   wrong_fragment  urgent  hot  ...  dst_host_srv_count  \\\n",
              "0               0       0    0  ...                   9   \n",
              "1               0       0    0  ...                  19   \n",
              "2               0       0    0  ...                  29   \n",
              "3               0       0    0  ...                  39   \n",
              "4               0       0    0  ...                  49   \n",
              "\n",
              "   dst_host_same_srv_rate  dst_host_diff_srv_rate  \\\n",
              "0                     1.0                     0.0   \n",
              "1                     1.0                     0.0   \n",
              "2                     1.0                     0.0   \n",
              "3                     1.0                     0.0   \n",
              "4                     1.0                     0.0   \n",
              "\n",
              "   dst_host_same_src_port_rate  dst_host_srv_diff_host_rate  \\\n",
              "0                         0.11                          0.0   \n",
              "1                         0.05                          0.0   \n",
              "2                         0.03                          0.0   \n",
              "3                         0.03                          0.0   \n",
              "4                         0.02                          0.0   \n",
              "\n",
              "   dst_host_serror_rate  dst_host_srv_serror_rate  dst_host_rerror_rate  \\\n",
              "0                   0.0                       0.0                   0.0   \n",
              "1                   0.0                       0.0                   0.0   \n",
              "2                   0.0                       0.0                   0.0   \n",
              "3                   0.0                       0.0                   0.0   \n",
              "4                   0.0                       0.0                   0.0   \n",
              "\n",
              "   dst_host_srv_rerror_rate  Target  \n",
              "0                       0.0       0  \n",
              "1                       0.0       0  \n",
              "2                       0.0       0  \n",
              "3                       0.0       0  \n",
              "4                       0.0       0  \n",
              "\n",
              "[5 rows x 42 columns]"
            ],
            "text/html": [
              "\n",
              "  <div id=\"df-1be8e90d-26ee-4960-8e34-d5901012a59e\" class=\"colab-df-container\">\n",
              "    <div>\n",
              "<style scoped>\n",
              "    .dataframe tbody tr th:only-of-type {\n",
              "        vertical-align: middle;\n",
              "    }\n",
              "\n",
              "    .dataframe tbody tr th {\n",
              "        vertical-align: top;\n",
              "    }\n",
              "\n",
              "    .dataframe thead th {\n",
              "        text-align: right;\n",
              "    }\n",
              "</style>\n",
              "<table border=\"1\" class=\"dataframe\">\n",
              "  <thead>\n",
              "    <tr style=\"text-align: right;\">\n",
              "      <th></th>\n",
              "      <th>duration</th>\n",
              "      <th>protocol_type</th>\n",
              "      <th>service</th>\n",
              "      <th>flag</th>\n",
              "      <th>src_bytes</th>\n",
              "      <th>dst_bytes</th>\n",
              "      <th>land</th>\n",
              "      <th>wrong_fragment</th>\n",
              "      <th>urgent</th>\n",
              "      <th>hot</th>\n",
              "      <th>...</th>\n",
              "      <th>dst_host_srv_count</th>\n",
              "      <th>dst_host_same_srv_rate</th>\n",
              "      <th>dst_host_diff_srv_rate</th>\n",
              "      <th>dst_host_same_src_port_rate</th>\n",
              "      <th>dst_host_srv_diff_host_rate</th>\n",
              "      <th>dst_host_serror_rate</th>\n",
              "      <th>dst_host_srv_serror_rate</th>\n",
              "      <th>dst_host_rerror_rate</th>\n",
              "      <th>dst_host_srv_rerror_rate</th>\n",
              "      <th>Target</th>\n",
              "    </tr>\n",
              "  </thead>\n",
              "  <tbody>\n",
              "    <tr>\n",
              "      <th>0</th>\n",
              "      <td>0</td>\n",
              "      <td>tcp</td>\n",
              "      <td>http</td>\n",
              "      <td>SF</td>\n",
              "      <td>181</td>\n",
              "      <td>5450</td>\n",
              "      <td>0</td>\n",
              "      <td>0</td>\n",
              "      <td>0</td>\n",
              "      <td>0</td>\n",
              "      <td>...</td>\n",
              "      <td>9</td>\n",
              "      <td>1.0</td>\n",
              "      <td>0.0</td>\n",
              "      <td>0.11</td>\n",
              "      <td>0.0</td>\n",
              "      <td>0.0</td>\n",
              "      <td>0.0</td>\n",
              "      <td>0.0</td>\n",
              "      <td>0.0</td>\n",
              "      <td>0</td>\n",
              "    </tr>\n",
              "    <tr>\n",
              "      <th>1</th>\n",
              "      <td>0</td>\n",
              "      <td>tcp</td>\n",
              "      <td>http</td>\n",
              "      <td>SF</td>\n",
              "      <td>239</td>\n",
              "      <td>486</td>\n",
              "      <td>0</td>\n",
              "      <td>0</td>\n",
              "      <td>0</td>\n",
              "      <td>0</td>\n",
              "      <td>...</td>\n",
              "      <td>19</td>\n",
              "      <td>1.0</td>\n",
              "      <td>0.0</td>\n",
              "      <td>0.05</td>\n",
              "      <td>0.0</td>\n",
              "      <td>0.0</td>\n",
              "      <td>0.0</td>\n",
              "      <td>0.0</td>\n",
              "      <td>0.0</td>\n",
              "      <td>0</td>\n",
              "    </tr>\n",
              "    <tr>\n",
              "      <th>2</th>\n",
              "      <td>0</td>\n",
              "      <td>tcp</td>\n",
              "      <td>http</td>\n",
              "      <td>SF</td>\n",
              "      <td>235</td>\n",
              "      <td>1337</td>\n",
              "      <td>0</td>\n",
              "      <td>0</td>\n",
              "      <td>0</td>\n",
              "      <td>0</td>\n",
              "      <td>...</td>\n",
              "      <td>29</td>\n",
              "      <td>1.0</td>\n",
              "      <td>0.0</td>\n",
              "      <td>0.03</td>\n",
              "      <td>0.0</td>\n",
              "      <td>0.0</td>\n",
              "      <td>0.0</td>\n",
              "      <td>0.0</td>\n",
              "      <td>0.0</td>\n",
              "      <td>0</td>\n",
              "    </tr>\n",
              "    <tr>\n",
              "      <th>3</th>\n",
              "      <td>0</td>\n",
              "      <td>tcp</td>\n",
              "      <td>http</td>\n",
              "      <td>SF</td>\n",
              "      <td>219</td>\n",
              "      <td>1337</td>\n",
              "      <td>0</td>\n",
              "      <td>0</td>\n",
              "      <td>0</td>\n",
              "      <td>0</td>\n",
              "      <td>...</td>\n",
              "      <td>39</td>\n",
              "      <td>1.0</td>\n",
              "      <td>0.0</td>\n",
              "      <td>0.03</td>\n",
              "      <td>0.0</td>\n",
              "      <td>0.0</td>\n",
              "      <td>0.0</td>\n",
              "      <td>0.0</td>\n",
              "      <td>0.0</td>\n",
              "      <td>0</td>\n",
              "    </tr>\n",
              "    <tr>\n",
              "      <th>4</th>\n",
              "      <td>0</td>\n",
              "      <td>tcp</td>\n",
              "      <td>http</td>\n",
              "      <td>SF</td>\n",
              "      <td>217</td>\n",
              "      <td>2032</td>\n",
              "      <td>0</td>\n",
              "      <td>0</td>\n",
              "      <td>0</td>\n",
              "      <td>0</td>\n",
              "      <td>...</td>\n",
              "      <td>49</td>\n",
              "      <td>1.0</td>\n",
              "      <td>0.0</td>\n",
              "      <td>0.02</td>\n",
              "      <td>0.0</td>\n",
              "      <td>0.0</td>\n",
              "      <td>0.0</td>\n",
              "      <td>0.0</td>\n",
              "      <td>0.0</td>\n",
              "      <td>0</td>\n",
              "    </tr>\n",
              "  </tbody>\n",
              "</table>\n",
              "<p>5 rows × 42 columns</p>\n",
              "</div>\n",
              "    <div class=\"colab-df-buttons\">\n",
              "\n",
              "  <div class=\"colab-df-container\">\n",
              "    <button class=\"colab-df-convert\" onclick=\"convertToInteractive('df-1be8e90d-26ee-4960-8e34-d5901012a59e')\"\n",
              "            title=\"Convert this dataframe to an interactive table.\"\n",
              "            style=\"display:none;\">\n",
              "\n",
              "  <svg xmlns=\"http://www.w3.org/2000/svg\" height=\"24px\" viewBox=\"0 -960 960 960\">\n",
              "    <path d=\"M120-120v-720h720v720H120Zm60-500h600v-160H180v160Zm220 220h160v-160H400v160Zm0 220h160v-160H400v160ZM180-400h160v-160H180v160Zm440 0h160v-160H620v160ZM180-180h160v-160H180v160Zm440 0h160v-160H620v160Z\"/>\n",
              "  </svg>\n",
              "    </button>\n",
              "\n",
              "  <style>\n",
              "    .colab-df-container {\n",
              "      display:flex;\n",
              "      gap: 12px;\n",
              "    }\n",
              "\n",
              "    .colab-df-convert {\n",
              "      background-color: #E8F0FE;\n",
              "      border: none;\n",
              "      border-radius: 50%;\n",
              "      cursor: pointer;\n",
              "      display: none;\n",
              "      fill: #1967D2;\n",
              "      height: 32px;\n",
              "      padding: 0 0 0 0;\n",
              "      width: 32px;\n",
              "    }\n",
              "\n",
              "    .colab-df-convert:hover {\n",
              "      background-color: #E2EBFA;\n",
              "      box-shadow: 0px 1px 2px rgba(60, 64, 67, 0.3), 0px 1px 3px 1px rgba(60, 64, 67, 0.15);\n",
              "      fill: #174EA6;\n",
              "    }\n",
              "\n",
              "    .colab-df-buttons div {\n",
              "      margin-bottom: 4px;\n",
              "    }\n",
              "\n",
              "    [theme=dark] .colab-df-convert {\n",
              "      background-color: #3B4455;\n",
              "      fill: #D2E3FC;\n",
              "    }\n",
              "\n",
              "    [theme=dark] .colab-df-convert:hover {\n",
              "      background-color: #434B5C;\n",
              "      box-shadow: 0px 1px 3px 1px rgba(0, 0, 0, 0.15);\n",
              "      filter: drop-shadow(0px 1px 2px rgba(0, 0, 0, 0.3));\n",
              "      fill: #FFFFFF;\n",
              "    }\n",
              "  </style>\n",
              "\n",
              "    <script>\n",
              "      const buttonEl =\n",
              "        document.querySelector('#df-1be8e90d-26ee-4960-8e34-d5901012a59e button.colab-df-convert');\n",
              "      buttonEl.style.display =\n",
              "        google.colab.kernel.accessAllowed ? 'block' : 'none';\n",
              "\n",
              "      async function convertToInteractive(key) {\n",
              "        const element = document.querySelector('#df-1be8e90d-26ee-4960-8e34-d5901012a59e');\n",
              "        const dataTable =\n",
              "          await google.colab.kernel.invokeFunction('convertToInteractive',\n",
              "                                                    [key], {});\n",
              "        if (!dataTable) return;\n",
              "\n",
              "        const docLinkHtml = 'Like what you see? Visit the ' +\n",
              "          '<a target=\"_blank\" href=https://colab.research.google.com/notebooks/data_table.ipynb>data table notebook</a>'\n",
              "          + ' to learn more about interactive tables.';\n",
              "        element.innerHTML = '';\n",
              "        dataTable['output_type'] = 'display_data';\n",
              "        await google.colab.output.renderOutput(dataTable, element);\n",
              "        const docLink = document.createElement('div');\n",
              "        docLink.innerHTML = docLinkHtml;\n",
              "        element.appendChild(docLink);\n",
              "      }\n",
              "    </script>\n",
              "  </div>\n",
              "\n",
              "\n",
              "    <div id=\"df-33a33e86-3401-4e7c-bf0a-5562a8885826\">\n",
              "      <button class=\"colab-df-quickchart\" onclick=\"quickchart('df-33a33e86-3401-4e7c-bf0a-5562a8885826')\"\n",
              "                title=\"Suggest charts\"\n",
              "                style=\"display:none;\">\n",
              "\n",
              "<svg xmlns=\"http://www.w3.org/2000/svg\" height=\"24px\"viewBox=\"0 0 24 24\"\n",
              "     width=\"24px\">\n",
              "    <g>\n",
              "        <path d=\"M19 3H5c-1.1 0-2 .9-2 2v14c0 1.1.9 2 2 2h14c1.1 0 2-.9 2-2V5c0-1.1-.9-2-2-2zM9 17H7v-7h2v7zm4 0h-2V7h2v10zm4 0h-2v-4h2v4z\"/>\n",
              "    </g>\n",
              "</svg>\n",
              "      </button>\n",
              "\n",
              "<style>\n",
              "  .colab-df-quickchart {\n",
              "      --bg-color: #E8F0FE;\n",
              "      --fill-color: #1967D2;\n",
              "      --hover-bg-color: #E2EBFA;\n",
              "      --hover-fill-color: #174EA6;\n",
              "      --disabled-fill-color: #AAA;\n",
              "      --disabled-bg-color: #DDD;\n",
              "  }\n",
              "\n",
              "  [theme=dark] .colab-df-quickchart {\n",
              "      --bg-color: #3B4455;\n",
              "      --fill-color: #D2E3FC;\n",
              "      --hover-bg-color: #434B5C;\n",
              "      --hover-fill-color: #FFFFFF;\n",
              "      --disabled-bg-color: #3B4455;\n",
              "      --disabled-fill-color: #666;\n",
              "  }\n",
              "\n",
              "  .colab-df-quickchart {\n",
              "    background-color: var(--bg-color);\n",
              "    border: none;\n",
              "    border-radius: 50%;\n",
              "    cursor: pointer;\n",
              "    display: none;\n",
              "    fill: var(--fill-color);\n",
              "    height: 32px;\n",
              "    padding: 0;\n",
              "    width: 32px;\n",
              "  }\n",
              "\n",
              "  .colab-df-quickchart:hover {\n",
              "    background-color: var(--hover-bg-color);\n",
              "    box-shadow: 0 1px 2px rgba(60, 64, 67, 0.3), 0 1px 3px 1px rgba(60, 64, 67, 0.15);\n",
              "    fill: var(--button-hover-fill-color);\n",
              "  }\n",
              "\n",
              "  .colab-df-quickchart-complete:disabled,\n",
              "  .colab-df-quickchart-complete:disabled:hover {\n",
              "    background-color: var(--disabled-bg-color);\n",
              "    fill: var(--disabled-fill-color);\n",
              "    box-shadow: none;\n",
              "  }\n",
              "\n",
              "  .colab-df-spinner {\n",
              "    border: 2px solid var(--fill-color);\n",
              "    border-color: transparent;\n",
              "    border-bottom-color: var(--fill-color);\n",
              "    animation:\n",
              "      spin 1s steps(1) infinite;\n",
              "  }\n",
              "\n",
              "  @keyframes spin {\n",
              "    0% {\n",
              "      border-color: transparent;\n",
              "      border-bottom-color: var(--fill-color);\n",
              "      border-left-color: var(--fill-color);\n",
              "    }\n",
              "    20% {\n",
              "      border-color: transparent;\n",
              "      border-left-color: var(--fill-color);\n",
              "      border-top-color: var(--fill-color);\n",
              "    }\n",
              "    30% {\n",
              "      border-color: transparent;\n",
              "      border-left-color: var(--fill-color);\n",
              "      border-top-color: var(--fill-color);\n",
              "      border-right-color: var(--fill-color);\n",
              "    }\n",
              "    40% {\n",
              "      border-color: transparent;\n",
              "      border-right-color: var(--fill-color);\n",
              "      border-top-color: var(--fill-color);\n",
              "    }\n",
              "    60% {\n",
              "      border-color: transparent;\n",
              "      border-right-color: var(--fill-color);\n",
              "    }\n",
              "    80% {\n",
              "      border-color: transparent;\n",
              "      border-right-color: var(--fill-color);\n",
              "      border-bottom-color: var(--fill-color);\n",
              "    }\n",
              "    90% {\n",
              "      border-color: transparent;\n",
              "      border-bottom-color: var(--fill-color);\n",
              "    }\n",
              "  }\n",
              "</style>\n",
              "\n",
              "      <script>\n",
              "        async function quickchart(key) {\n",
              "          const quickchartButtonEl =\n",
              "            document.querySelector('#' + key + ' button');\n",
              "          quickchartButtonEl.disabled = true;  // To prevent multiple clicks.\n",
              "          quickchartButtonEl.classList.add('colab-df-spinner');\n",
              "          try {\n",
              "            const charts = await google.colab.kernel.invokeFunction(\n",
              "                'suggestCharts', [key], {});\n",
              "          } catch (error) {\n",
              "            console.error('Error during call to suggestCharts:', error);\n",
              "          }\n",
              "          quickchartButtonEl.classList.remove('colab-df-spinner');\n",
              "          quickchartButtonEl.classList.add('colab-df-quickchart-complete');\n",
              "        }\n",
              "        (() => {\n",
              "          let quickchartButtonEl =\n",
              "            document.querySelector('#df-33a33e86-3401-4e7c-bf0a-5562a8885826 button');\n",
              "          quickchartButtonEl.style.display =\n",
              "            google.colab.kernel.accessAllowed ? 'block' : 'none';\n",
              "        })();\n",
              "      </script>\n",
              "    </div>\n",
              "\n",
              "    </div>\n",
              "  </div>\n"
            ],
            "application/vnd.google.colaboratory.intrinsic+json": {
              "type": "dataframe",
              "variable_name": "df"
            }
          },
          "metadata": {},
          "execution_count": 3
        }
      ],
      "source": [
        "# Load 10% dataset from UCI repository\n",
        "url = \"http://kdd.ics.uci.edu/databases/kddcup99/kddcup.data_10_percent.gz\"\n",
        "\n",
        "# Define column names\n",
        "column_names = [\n",
        "    \"duration\", \"protocol_type\", \"service\", \"flag\", \"src_bytes\", \"dst_bytes\",\n",
        "    \"land\", \"wrong_fragment\", \"urgent\", \"hot\", \"num_failed_logins\",\n",
        "    \"logged_in\", \"num_compromised\", \"root_shell\", \"su_attempted\", \"num_root\",\n",
        "    \"num_file_creations\", \"num_shells\", \"num_access_files\", \"num_outbound_cmds\",\n",
        "    \"is_host_login\", \"is_guest_login\", \"count\", \"srv_count\", \"serror_rate\",\n",
        "    \"srv_serror_rate\", \"rerror_rate\", \"srv_rerror_rate\", \"same_srv_rate\",\n",
        "    \"diff_srv_rate\", \"srv_diff_host_rate\", \"dst_host_count\", \"dst_host_srv_count\",\n",
        "    \"dst_host_same_srv_rate\", \"dst_host_diff_srv_rate\", \"dst_host_same_src_port_rate\",\n",
        "    \"dst_host_srv_diff_host_rate\", \"dst_host_serror_rate\", \"dst_host_srv_serror_rate\",\n",
        "    \"dst_host_rerror_rate\", \"dst_host_srv_rerror_rate\", \"Target\"\n",
        "]\n",
        "\n",
        "# Load dataset\n",
        "df = pd.read_csv(url, names=column_names, compression=\"gzip\")\n",
        "\n",
        "# Convert target variable to binary (0 = Normal, 1 = Attack)\n",
        "df[\"Target\"] = df[\"Target\"].apply(lambda x: 0 if x == \"normal.\" else 1)\n",
        "\n",
        "# Display dataset shape\n",
        "print(\"Dataset Shape:\", df.shape)\n",
        "df.head()\n",
        "\n"
      ]
    },
    {
      "cell_type": "markdown",
      "metadata": {
        "id": "FeVbQUjqC-UJ"
      },
      "source": [
        "#1. Data Preprocessing\n",
        "\n",
        "##1.1  Handling Missing Values :\n",
        "Identify and appropriately address any missing or inconsistent data entries."
      ]
    },
    {
      "cell_type": "code",
      "execution_count": null,
      "metadata": {
        "colab": {
          "base_uri": "https://localhost:8080/"
        },
        "id": "1UFwFDfChf1N",
        "outputId": "f6305c72-977b-42eb-a9b4-488deab666d8"
      },
      "outputs": [
        {
          "output_type": "stream",
          "name": "stdout",
          "text": [
            "Total Missing Values: 0\n"
          ]
        }
      ],
      "source": [
        "# Check missing values\n",
        "print(\"Total Missing Values:\", df.isnull().sum().sum())\n",
        "\n",
        "# Fill missing values (if any)\n",
        "df.fillna(df.median(numeric_only=True), inplace=True)\n"
      ]
    },
    {
      "cell_type": "markdown",
      "metadata": {
        "id": "mrssggoMEJHv"
      },
      "source": [
        "## 1.2 Categorical Encoding :\n",
        "Convert categorical features (e.g., protocol type, service) into\n",
        "numerical representations."
      ]
    },
    {
      "cell_type": "code",
      "execution_count": null,
      "metadata": {
        "colab": {
          "base_uri": "https://localhost:8080/"
        },
        "id": "7hAZe8vmkJiV",
        "outputId": "6ddcb3d3-770c-4046-8229-5ef680f41b83"
      },
      "outputs": [
        {
          "output_type": "stream",
          "name": "stdout",
          "text": [
            "Categorical Encoding Applied: ['protocol_type', 'service', 'flag']\n",
            "   protocol_type  service  flag\n",
            "0              1       22     9\n",
            "1              1       22     9\n",
            "2              1       22     9\n",
            "3              1       22     9\n",
            "4              1       22     9\n"
          ]
        }
      ],
      "source": [
        "from sklearn.preprocessing import LabelEncoder\n",
        "# Identify categorical columns\n",
        "categorical_cols = [\"protocol_type\", \"service\", \"flag\"]\n",
        "\n",
        "# Apply Label Encoding to categorical features\n",
        "encoder = LabelEncoder()\n",
        "for col in categorical_cols:\n",
        "    df[col] = encoder.fit_transform(df[col])\n",
        "\n",
        "print(f\"Categorical Encoding Applied: {categorical_cols}\")\n",
        "print(df[categorical_cols].head())  # Display encoded columns\n",
        "\n",
        "#Fitted Label Encoders\n",
        "encoder_protocol = LabelEncoder().fit(df['protocol_type'])\n",
        "encoder_service = LabelEncoder().fit(df['service'])\n",
        "encoder_flag = LabelEncoder().fit(df['flag'])"
      ]
    },
    {
      "cell_type": "markdown",
      "metadata": {
        "id": "D1N5KZYhmUAl"
      },
      "source": [
        "##1.3 Remove Low-Variance Features"
      ]
    },
    {
      "cell_type": "code",
      "execution_count": null,
      "metadata": {
        "colab": {
          "base_uri": "https://localhost:8080/"
        },
        "id": "hnvs8rtIjvAG",
        "outputId": "639cd489-f1eb-4b4b-dd44-0f3ef54d54b5"
      },
      "outputs": [
        {
          "output_type": "stream",
          "name": "stdout",
          "text": [
            "Removed 13 low-variance features: ['land', 'urgent', 'num_failed_logins', 'root_shell', 'su_attempted', 'num_file_creations', 'num_shells', 'num_access_files', 'num_outbound_cmds', 'is_host_login', 'is_guest_login', 'diff_srv_rate', 'dst_host_srv_diff_host_rate']\n"
          ]
        }
      ],
      "source": [
        "from sklearn.feature_selection import VarianceThreshold\n",
        "\n",
        "# Apply variance threshold (removes features with variance < 0.01)\n",
        "selector = VarianceThreshold(threshold=0.01)\n",
        "X = df.drop(columns=[\"Target\"])\n",
        "X_low_var = selector.fit_transform(X)\n",
        "\n",
        "# Get the remaining feature names\n",
        "selected_features = X.columns[selector.get_support()]\n",
        "\n",
        "# Get the dropped (low variance) feature names\n",
        "low_variance_features = X.columns[~selector.get_support()].tolist()\n",
        "\n",
        "# Convert back to DataFrame with only selected features\n",
        "X = pd.DataFrame(X_low_var, columns=selected_features)\n",
        "\n",
        "print(f\"Removed {len(low_variance_features)} low-variance features: {low_variance_features}\")\n",
        "\n"
      ]
    },
    {
      "cell_type": "markdown",
      "metadata": {
        "id": "GtmY5boUmGoW"
      },
      "source": [
        "##1.4 Remove Highly Correlated Features"
      ]
    },
    {
      "cell_type": "code",
      "execution_count": null,
      "metadata": {
        "colab": {
          "base_uri": "https://localhost:8080/"
        },
        "id": "91k4L5eemDXH",
        "outputId": "d59c4a14-8197-44d3-df56-018b1ea3c491"
      },
      "outputs": [
        {
          "output_type": "stream",
          "name": "stdout",
          "text": [
            "Removed 13 highly correlated features: {'srv_rerror_rate', 'dst_host_rerror_rate', 'dst_host_same_srv_rate', 'same_srv_rate', 'srv_serror_rate', 'dst_host_srv_serror_rate', 'dst_host_srv_rerror_rate', 'num_root', 'dst_host_serror_rate', 'srv_count', 'dst_host_same_src_port_rate', 'count', 'dst_host_srv_count'}\n",
            "\n",
            "Updated Correlation Matrix (Top 10 Features):\n",
            "                 duration  protocol_type   service      flag  src_bytes  \\\n",
            "duration         1.000000       0.163251  0.078995  0.019739   0.004258   \n",
            "protocol_type    0.163251       1.000000  0.741244  0.476091   0.001904   \n",
            "service          0.078995       0.741244  1.000000  0.725525   0.001206   \n",
            "flag             0.019739       0.476091  0.725525  1.000000   0.002880   \n",
            "src_bytes        0.004258       0.001904  0.001206  0.002880   1.000000   \n",
            "dst_bytes        0.005440       0.024519  0.006135  0.013191   0.000002   \n",
            "wrong_fragment   0.003235       0.113568  0.067200  0.024541   0.000139   \n",
            "hot              0.013213       0.040859  0.012767  0.021437   0.004483   \n",
            "logged_in        0.017265       0.386216  0.066400  0.211729   0.001701   \n",
            "num_compromised  0.058095       0.005257  0.007513  0.002822   0.000119   \n",
            "\n",
            "                 dst_bytes  wrong_fragment       hot  logged_in  \\\n",
            "duration          0.005440        0.003235  0.013213   0.017265   \n",
            "protocol_type     0.024519        0.113568  0.040859   0.386216   \n",
            "service           0.006135        0.067200  0.012767   0.066400   \n",
            "flag              0.013191        0.024541  0.021437   0.211729   \n",
            "src_bytes         0.000002        0.000139  0.004483   0.001701   \n",
            "dst_bytes         1.000000        0.001254  0.004365   0.047814   \n",
            "wrong_fragment    0.001254        1.000000  0.002106   0.019908   \n",
            "hot               0.004365        0.002106  1.000000   0.105305   \n",
            "logged_in         0.047814        0.019908  0.105305   1.000000   \n",
            "num_compromised   0.023298        0.000271  0.007348   0.013612   \n",
            "\n",
            "                 num_compromised  \n",
            "duration                0.058095  \n",
            "protocol_type           0.005257  \n",
            "service                 0.007513  \n",
            "flag                    0.002822  \n",
            "src_bytes               0.000119  \n",
            "dst_bytes               0.023298  \n",
            "wrong_fragment          0.000271  \n",
            "hot                     0.007348  \n",
            "logged_in               0.013612  \n",
            "num_compromised         1.000000  \n"
          ]
        }
      ],
      "source": [
        "import numpy as np\n",
        "\n",
        "# Compute correlation matrix\n",
        "corr_matrix = X.corr().abs()\n",
        "\n",
        "# Identify highly correlated features (correlation > 0.8)\n",
        "high_corr_pairs = np.where(corr_matrix > 0.8)\n",
        "high_corr_features = [(corr_matrix.index[x], corr_matrix.columns[y]) for x, y in zip(*high_corr_pairs) if x != y]\n",
        "\n",
        "# Identify unique features to drop\n",
        "features_to_drop = set()\n",
        "for feature1, feature2 in high_corr_features:\n",
        "    if feature1 not in features_to_drop and feature2 not in features_to_drop:\n",
        "        features_to_drop.add(feature2)  # Keep feature1, drop feature2\n",
        "\n",
        "# Drop correlated features\n",
        "X = X.drop(columns=features_to_drop)\n",
        "\n",
        "print(f\"Removed {len(features_to_drop)} highly correlated features: {features_to_drop}\")\n",
        "\n",
        "# **Recompute the correlation matrix AFTER dropping features**\n",
        "corr_matrix_after = X.corr().abs()\n",
        "print(\"\\nUpdated Correlation Matrix (Top 10 Features):\")\n",
        "print(corr_matrix_after.iloc[:10, :10])  # Show top correlations after removal\n",
        "\n",
        "high_corr_features = sorted(list(features_to_drop))\n"
      ]
    },
    {
      "cell_type": "markdown",
      "metadata": {
        "id": "g5NTvFiJFctA"
      },
      "source": [
        "## 1.5 Feature Scaling\n",
        "Normalize or standardize numerical features"
      ]
    },
    {
      "cell_type": "code",
      "execution_count": null,
      "metadata": {
        "colab": {
          "base_uri": "https://localhost:8080/"
        },
        "id": "JAe8BnJ0kQON",
        "outputId": "6fce7ce0-0491-4b5a-878e-f96c715ed3d5"
      },
      "outputs": [
        {
          "output_type": "stream",
          "name": "stdout",
          "text": [
            "Feature scaling applied using MinMaxScaler.\n",
            "\n",
            "Scaled Dataset (First 5 Rows):\n",
            "   duration  protocol_type   service  flag     src_bytes  dst_bytes  \\\n",
            "0       0.0            0.5  0.338462   0.9  2.610418e-07   0.001057   \n",
            "1       0.0            0.5  0.338462   0.9  3.446905e-07   0.000094   \n",
            "2       0.0            0.5  0.338462   0.9  3.389216e-07   0.000259   \n",
            "3       0.0            0.5  0.338462   0.9  3.158461e-07   0.000259   \n",
            "4       0.0            0.5  0.338462   0.9  3.129617e-07   0.000394   \n",
            "\n",
            "   wrong_fragment  hot  logged_in  num_compromised  serror_rate  rerror_rate  \\\n",
            "0             0.0  0.0        1.0              0.0          0.0          0.0   \n",
            "1             0.0  0.0        1.0              0.0          0.0          0.0   \n",
            "2             0.0  0.0        1.0              0.0          0.0          0.0   \n",
            "3             0.0  0.0        1.0              0.0          0.0          0.0   \n",
            "4             0.0  0.0        1.0              0.0          0.0          0.0   \n",
            "\n",
            "   srv_diff_host_rate  dst_host_count  dst_host_diff_srv_rate  \n",
            "0                 0.0        0.035294                     0.0  \n",
            "1                 0.0        0.074510                     0.0  \n",
            "2                 0.0        0.113725                     0.0  \n",
            "3                 0.0        0.152941                     0.0  \n",
            "4                 0.0        0.192157                     0.0  \n"
          ]
        }
      ],
      "source": [
        "from sklearn.preprocessing import MinMaxScaler\n",
        "\n",
        "# Apply MinMax Scaling to normalize all numerical features\n",
        "scaler = MinMaxScaler()\n",
        "X_scaled = pd.DataFrame(scaler.fit_transform(X), columns=X.columns)\n",
        "\n",
        "print(\"Feature scaling applied using MinMaxScaler.\")\n",
        "\n",
        "# Display the first few rows of the scaled dataset\n",
        "print(\"\\nScaled Dataset (First 5 Rows):\")\n",
        "print(X_scaled.head())\n",
        "\n",
        "#scaler = MinMaxScaler().fit(X_train_unscaled)\n",
        "# If you need to store the scaler, you can simply keep the 'scaler' variable\n",
        "# as it is already fitted.\n",
        "\n",
        "# If you need to scale another dataset later (like X_train), you can use:\n",
        "# X_train_scaled = pd.DataFrame(scaler.transform(X_train), columns=X_train.columns)"
      ]
    },
    {
      "cell_type": "markdown",
      "metadata": {
        "id": "2EobtN5No1P0"
      },
      "source": [
        "##1.6 Check Class Distribution"
      ]
    },
    {
      "cell_type": "code",
      "execution_count": null,
      "metadata": {
        "colab": {
          "base_uri": "https://localhost:8080/",
          "height": 522
        },
        "id": "Vf1psq8poyPQ",
        "outputId": "1f32b2c1-6966-499c-f51b-26f8bfa986b9"
      },
      "outputs": [
        {
          "output_type": "display_data",
          "data": {
            "text/plain": [
              "<Figure size 800x500 with 1 Axes>"
            ],
            "image/png": "[encoded data removed]"
          },
          "metadata": {}
        },
        {
          "output_type": "stream",
          "name": "stdout",
          "text": [
            "Class 0 (Normal): 97278\n",
            "Class 1 (Attack): 396743\n"
          ]
        }
      ],
      "source": [
        "# Plot class distribution before applying balancing techniques\n",
        "plt.figure(figsize=(8, 5))\n",
        "sns.countplot(x=df[\"Target\"])\n",
        "plt.title(\"Class Distribution Before Handling Imbalance\")\n",
        "plt.xlabel(\"Class (0 = Normal, 1 = Attack)\")\n",
        "plt.ylabel(\"Count\")\n",
        "plt.show()\n",
        "\n",
        "# Print class counts\n",
        "class_counts = df[\"Target\"].value_counts()\n",
        "print(f\"Class 0 (Normal): {class_counts[0]}\")\n",
        "print(f\"Class 1 (Attack): {class_counts[1]}\")\n"
      ]
    },
    {
      "cell_type": "markdown",
      "metadata": {
        "id": "KUoU6B1I6E97"
      },
      "source": [
        "### Visualizing Feature-Target Correlations"
      ]
    },
    {
      "cell_type": "code",
      "execution_count": null,
      "metadata": {
        "colab": {
          "base_uri": "https://localhost:8080/",
          "height": 851
        },
        "id": "m4UT3JRz0ZHR",
        "outputId": "469ee4ea-4f77-47b1-fba1-4f4a60f9aeb7"
      },
      "outputs": [
        {
          "output_type": "stream",
          "name": "stdout",
          "text": [
            "\n",
            "Top Feature-Target Correlations AFTER Cleaning:\n",
            "logged_in                 0.795282\n",
            "dst_host_count            0.642110\n",
            "protocol_type             0.616601\n",
            "srv_diff_host_rate        0.364687\n",
            "serror_rate               0.227739\n",
            "flag                      0.155672\n",
            "service                   0.131723\n",
            "duration                  0.118014\n",
            "dst_host_diff_srv_rate    0.115901\n",
            "dst_bytes                 0.037709\n",
            "dtype: float64\n"
          ]
        },
        {
          "output_type": "display_data",
          "data": {
            "text/plain": [
              "<Figure size 800x500 with 1 Axes>"
            ],
            "image/png": "[encoded data removed]"
          },
          "metadata": {}
        }
      ],
      "source": [
        "import seaborn as sns\n",
        "import matplotlib.pyplot as plt\n",
        "\n",
        "# Compute correlation **AFTER** removing highly correlated features\n",
        "correlation_after = X.corrwith(df[\"Target\"]).abs().sort_values(ascending=False)\n",
        "\n",
        "# Display top correlated features after cleaning\n",
        "print(\"\\nTop Feature-Target Correlations AFTER Cleaning:\")\n",
        "print(correlation_after.head(10))\n",
        "\n",
        "# Visualize updated correlations\n",
        "plt.figure(figsize=(8, 5))\n",
        "sns.barplot(x=correlation_after.head(10).index, y=correlation_after.head(10).values)\n",
        "plt.xticks(rotation=90)\n",
        "plt.title(\"Top 10 Feature-Target Correlations AFTER Cleaning\")\n",
        "plt.ylabel(\"Correlation\")\n",
        "plt.show()\n"
      ]
    },
    {
      "cell_type": "markdown",
      "metadata": {
        "id": "7FCmq3SjGPXP"
      },
      "source": [
        "## 1.7 Handling Imbalanced Data Using SMOTE + Undersampling\n",
        "\n",
        "\n"
      ]
    },
    {
      "cell_type": "code",
      "execution_count": null,
      "metadata": {
        "colab": {
          "base_uri": "https://localhost:8080/",
          "height": 539
        },
        "id": "4LbEMh6lkDqN",
        "outputId": "1ad16bff-53b4-44ba-f63c-afcf85825874"
      },
      "outputs": [
        {
          "output_type": "stream",
          "name": "stdout",
          "text": [
            "Class imbalance handled using SMOTE + undersampling.\n"
          ]
        },
        {
          "output_type": "display_data",
          "data": {
            "text/plain": [
              "<Figure size 800x500 with 1 Axes>"
            ],
            "image/png": "[encoded data removed]"
          },
          "metadata": {}
        },
        {
          "output_type": "stream",
          "name": "stdout",
          "text": [
            "Class 0 (Normal) after balancing: 238045\n",
            "Class 1 (Attack) after balancing: 340064\n"
          ]
        }
      ],
      "source": [
        "from imblearn.over_sampling import SMOTE\n",
        "from imblearn.under_sampling import RandomUnderSampler\n",
        "import matplotlib.pyplot as plt\n",
        "import seaborn as sns\n",
        "\n",
        "# Define a controlled balance ratio (avoid 50-50 split)\n",
        "smote = SMOTE(sampling_strategy=0.6, random_state=42)  # Generate synthetic samples up to 60% of the majority class\n",
        "undersample = RandomUnderSampler(sampling_strategy=0.7, random_state=42)  # Reduce the majority class slightly\n",
        "\n",
        "# Apply oversampling (SMOTE) first, then undersampling\n",
        "X_resampled, y_resampled = smote.fit_resample(X_scaled, df[\"Target\"])\n",
        "X_resampled, y_resampled = undersample.fit_resample(X_resampled, y_resampled)\n",
        "\n",
        "print(\"Class imbalance handled using SMOTE + undersampling.\")\n",
        "\n",
        "# Plot class distribution after balancing\n",
        "plt.figure(figsize=(8, 5))\n",
        "sns.countplot(x=y_resampled)\n",
        "plt.title(\"Class Distribution After SMOTE + Undersampling\")\n",
        "plt.xlabel(\"Class (0 = Normal, 1 = Attack)\")\n",
        "plt.ylabel(\"Count\")\n",
        "plt.show()\n",
        "\n",
        "# Print new class counts\n",
        "class_counts_resampled = pd.Series(y_resampled).value_counts()\n",
        "print(f\"Class 0 (Normal) after balancing: {class_counts_resampled[0]}\")\n",
        "print(f\"Class 1 (Attack) after balancing: {class_counts_resampled[1]}\")\n"
      ]
    },
    {
      "cell_type": "markdown",
      "metadata": {
        "id": "6lNTn39aXhxz"
      },
      "source": [
        "## Loading labeled and unlabeled test data.\n"
      ]
    },
    {
      "cell_type": "code",
      "execution_count": null,
      "metadata": {
        "id": "BJY_Ywb5ZURr"
      },
      "outputs": [],
      "source": [
        "# URL for labeled test data\n",
        "url_corrected = \"http://kdd.ics.uci.edu/databases/kddcup99/corrected.gz\"\n",
        "\n",
        "# Column names as per kddcup.names\n",
        "column_names = [\n",
        "    'duration', 'protocol_type', 'service', 'flag', 'src_bytes', 'dst_bytes', 'land',\n",
        "    'wrong_fragment', 'urgent', 'hot', 'num_failed_logins', 'logged_in', 'num_compromised',\n",
        "    'root_shell', 'su_attempted', 'num_root', 'num_file_creations', 'num_shells',\n",
        "    'num_access_files', 'num_outbound_cmds', 'is_host_login', 'is_guest_login',\n",
        "    'count', 'srv_count', 'serror_rate', 'srv_serror_rate', 'rerror_rate',\n",
        "    'srv_rerror_rate', 'same_srv_rate', 'diff_srv_rate', 'srv_diff_host_rate',\n",
        "    'dst_host_count', 'dst_host_srv_count', 'dst_host_same_srv_rate',\n",
        "    'dst_host_diff_srv_rate', 'dst_host_same_src_port_rate', 'dst_host_srv_diff_host_rate',\n",
        "    'dst_host_serror_rate', 'dst_host_srv_serror_rate', 'dst_host_rerror_rate',\n",
        "    'dst_host_srv_rerror_rate', 'Target'\n",
        "]\n",
        "\n",
        "# Load the labeled test dataset\n",
        "df_test_labeled = pd.read_csv(url_corrected, names=column_names, compression='gzip', header=None)"
      ]
    },
    {
      "cell_type": "code",
      "source": [
        "# URL for unlabeled test data (note: this file is not as commonly used, but mentioned on the site)\n",
        "url_unlabeled = \"http://kdd.ics.uci.edu/databases/kddcup99/kddcup.newtestdata_10_percent_unlabeled.gz\"\n",
        "\n",
        "# Unlabeled data has same columns except no \"Target\"\n",
        "column_names_unlabeled = column_names[:-1]  # exclude \"Target\"\n",
        "\n",
        "# Load the unlabeled test dataset\n",
        "df_test_unlabeled = pd.read_csv(url_unlabeled, names=column_names_unlabeled, compression='gzip', header=None)\n"
      ],
      "metadata": {
        "id": "zxmnROEzypZX"
      },
      "execution_count": null,
      "outputs": []
    },
    {
      "cell_type": "code",
      "source": [
        "def preprocess_test_set(df):\n",
        "    df = df.copy()\n",
        "\n",
        "    # 1. Encode categorical features using training-fitted encoders\n",
        "    df['protocol_type'] = encoder_protocol.transform(df['protocol_type'])\n",
        "    df['service'] = encoder_service.transform(df['service'])\n",
        "    df['flag'] = encoder_flag.transform(df['flag'])\n",
        "\n",
        "    # 2. Drop features removed during training\n",
        "    df.drop(columns=low_variance_features, inplace=True, errors='ignore')\n",
        "    df.drop(columns=high_corr_features, inplace=True, errors='ignore')\n",
        "\n",
        "    # 3. Scale using MinMaxScaler fitted on training data\n",
        "    df_scaled = pd.DataFrame(scaler.transform(df), columns=df.columns)\n",
        "\n",
        "    return df_scaled\n"
      ],
      "metadata": {
        "id": "EkjJcnmzCKd0"
      },
      "execution_count": null,
      "outputs": []
    },
    {
      "cell_type": "code",
      "source": [
        "print(df_test_labeled['protocol_type'].unique())\n",
        "# Preprocess labeled test data\n",
        "X_test_eval = preprocess_test_set(df_test_labeled.drop(columns=['Target']))\n",
        "y_test_eval = df_test_labeled['Target']\n",
        "\n",
        "# Preprocess unlabeled test data\n",
        "X_test_unlabeled = preprocess_test_set(df_test_unlabeled)\n"
      ],
      "metadata": {
        "colab": {
          "base_uri": "https://localhost:8080/",
          "height": 373
        },
        "id": "D6cTiNuPC1M3",
        "outputId": "4785ed61-2076-4275-d763-f26f41c5174b"
      },
      "execution_count": null,
      "outputs": [
        {
          "output_type": "stream",
          "name": "stdout",
          "text": [
            "['udp' 'tcp' 'icmp']\n"
          ]
        },
        {
          "output_type": "error",
          "ename": "ValueError",
          "evalue": "invalid literal for int() with base 10: 'udp'",
          "traceback": [
            "\u001b[0;31m---------------------------------------------------------------------------\u001b[0m",
            "\u001b[0;31mValueError\u001b[0m                                Traceback (most recent call last)",
            "\u001b[0;32m<ipython-input-15-5db9b28d5346>\u001b[0m in \u001b[0;36m<cell line: 0>\u001b[0;34m()\u001b[0m\n\u001b[1;32m      1\u001b[0m \u001b[0mprint\u001b[0m\u001b[0;34m(\u001b[0m\u001b[0mdf_test_labeled\u001b[0m\u001b[0;34m[\u001b[0m\u001b[0;34m'protocol_type'\u001b[0m\u001b[0;34m]\u001b[0m\u001b[0;34m.\u001b[0m\u001b[0munique\u001b[0m\u001b[0;34m(\u001b[0m\u001b[0;34m)\u001b[0m\u001b[0;34m)\u001b[0m\u001b[0;34m\u001b[0m\u001b[0;34m\u001b[0m\u001b[0m\n\u001b[1;32m      2\u001b[0m \u001b[0;31m# Preprocess labeled test data\u001b[0m\u001b[0;34m\u001b[0m\u001b[0;34m\u001b[0m\u001b[0m\n\u001b[0;32m----> 3\u001b[0;31m \u001b[0mX_test_eval\u001b[0m \u001b[0;34m=\u001b[0m \u001b[0mpreprocess_test_set\u001b[0m\u001b[0;34m(\u001b[0m\u001b[0mdf_test_labeled\u001b[0m\u001b[0;34m.\u001b[0m\u001b[0mdrop\u001b[0m\u001b[0;34m(\u001b[0m\u001b[0mcolumns\u001b[0m\u001b[0;34m=\u001b[0m\u001b[0;34m[\u001b[0m\u001b[0;34m'Target'\u001b[0m\u001b[0;34m]\u001b[0m\u001b[0;34m)\u001b[0m\u001b[0;34m)\u001b[0m\u001b[0;34m\u001b[0m\u001b[0;34m\u001b[0m\u001b[0m\n\u001b[0m\u001b[1;32m      4\u001b[0m \u001b[0my_test_eval\u001b[0m \u001b[0;34m=\u001b[0m \u001b[0mdf_test_labeled\u001b[0m\u001b[0;34m[\u001b[0m\u001b[0;34m'Target'\u001b[0m\u001b[0;34m]\u001b[0m\u001b[0;34m\u001b[0m\u001b[0;34m\u001b[0m\u001b[0m\n\u001b[1;32m      5\u001b[0m \u001b[0;34m\u001b[0m\u001b[0m\n",
            "\u001b[0;32m<ipython-input-14-d3396e72f2f8>\u001b[0m in \u001b[0;36mpreprocess_test_set\u001b[0;34m(df)\u001b[0m\n\u001b[1;32m      3\u001b[0m \u001b[0;34m\u001b[0m\u001b[0m\n\u001b[1;32m      4\u001b[0m     \u001b[0;31m# 1. Encode categorical features using training-fitted encoders\u001b[0m\u001b[0;34m\u001b[0m\u001b[0;34m\u001b[0m\u001b[0m\n\u001b[0;32m----> 5\u001b[0;31m     \u001b[0mdf\u001b[0m\u001b[0;34m[\u001b[0m\u001b[0;34m'protocol_type'\u001b[0m\u001b[0;34m]\u001b[0m \u001b[0;34m=\u001b[0m \u001b[0mencoder_protocol\u001b[0m\u001b[0;34m.\u001b[0m\u001b[0mtransform\u001b[0m\u001b[0;34m(\u001b[0m\u001b[0mdf\u001b[0m\u001b[0;34m[\u001b[0m\u001b[0;34m'protocol_type'\u001b[0m\u001b[0;34m]\u001b[0m\u001b[0;34m)\u001b[0m\u001b[0;34m\u001b[0m\u001b[0;34m\u001b[0m\u001b[0m\n\u001b[0m\u001b[1;32m      6\u001b[0m     \u001b[0mdf\u001b[0m\u001b[0;34m[\u001b[0m\u001b[0;34m'service'\u001b[0m\u001b[0;34m]\u001b[0m \u001b[0;34m=\u001b[0m \u001b[0mencoder_service\u001b[0m\u001b[0;34m.\u001b[0m\u001b[0mtransform\u001b[0m\u001b[0;34m(\u001b[0m\u001b[0mdf\u001b[0m\u001b[0;34m[\u001b[0m\u001b[0;34m'service'\u001b[0m\u001b[0;34m]\u001b[0m\u001b[0;34m)\u001b[0m\u001b[0;34m\u001b[0m\u001b[0;34m\u001b[0m\u001b[0m\n\u001b[1;32m      7\u001b[0m     \u001b[0mdf\u001b[0m\u001b[0;34m[\u001b[0m\u001b[0;34m'flag'\u001b[0m\u001b[0;34m]\u001b[0m \u001b[0;34m=\u001b[0m \u001b[0mencoder_flag\u001b[0m\u001b[0;34m.\u001b[0m\u001b[0mtransform\u001b[0m\u001b[0;34m(\u001b[0m\u001b[0mdf\u001b[0m\u001b[0;34m[\u001b[0m\u001b[0;34m'flag'\u001b[0m\u001b[0;34m]\u001b[0m\u001b[0;34m)\u001b[0m\u001b[0;34m\u001b[0m\u001b[0;34m\u001b[0m\u001b[0m\n",
            "\u001b[0;32m/usr/local/lib/python3.11/dist-packages/sklearn/preprocessing/_label.py\u001b[0m in \u001b[0;36mtransform\u001b[0;34m(self, y)\u001b[0m\n\u001b[1;32m    127\u001b[0m         \u001b[0mcheck_is_fitted\u001b[0m\u001b[0;34m(\u001b[0m\u001b[0mself\u001b[0m\u001b[0;34m)\u001b[0m\u001b[0;34m\u001b[0m\u001b[0;34m\u001b[0m\u001b[0m\n\u001b[1;32m    128\u001b[0m         \u001b[0mxp\u001b[0m\u001b[0;34m,\u001b[0m \u001b[0m_\u001b[0m \u001b[0;34m=\u001b[0m \u001b[0mget_namespace\u001b[0m\u001b[0;34m(\u001b[0m\u001b[0my\u001b[0m\u001b[0;34m)\u001b[0m\u001b[0;34m\u001b[0m\u001b[0;34m\u001b[0m\u001b[0m\n\u001b[0;32m--> 129\u001b[0;31m         \u001b[0my\u001b[0m \u001b[0;34m=\u001b[0m \u001b[0mcolumn_or_1d\u001b[0m\u001b[0;34m(\u001b[0m\u001b[0my\u001b[0m\u001b[0;34m,\u001b[0m \u001b[0mdtype\u001b[0m\u001b[0;34m=\u001b[0m\u001b[0mself\u001b[0m\u001b[0;34m.\u001b[0m\u001b[0mclasses_\u001b[0m\u001b[0;34m.\u001b[0m\u001b[0mdtype\u001b[0m\u001b[0;34m,\u001b[0m \u001b[0mwarn\u001b[0m\u001b[0;34m=\u001b[0m\u001b[0;32mTrue\u001b[0m\u001b[0;34m)\u001b[0m\u001b[0;34m\u001b[0m\u001b[0;34m\u001b[0m\u001b[0m\n\u001b[0m\u001b[1;32m    130\u001b[0m         \u001b[0;31m# transform of empty array is empty array\u001b[0m\u001b[0;34m\u001b[0m\u001b[0;34m\u001b[0m\u001b[0m\n\u001b[1;32m    131\u001b[0m         \u001b[0;32mif\u001b[0m \u001b[0m_num_samples\u001b[0m\u001b[0;34m(\u001b[0m\u001b[0my\u001b[0m\u001b[0;34m)\u001b[0m \u001b[0;34m==\u001b[0m \u001b[0;36m0\u001b[0m\u001b[0;34m:\u001b[0m\u001b[0;34m\u001b[0m\u001b[0;34m\u001b[0m\u001b[0m\n",
            "\u001b[0;32m/usr/local/lib/python3.11/dist-packages/sklearn/utils/validation.py\u001b[0m in \u001b[0;36mcolumn_or_1d\u001b[0;34m(y, dtype, warn, device)\u001b[0m\n\u001b[1;32m   1454\u001b[0m     \"\"\"\n\u001b[1;32m   1455\u001b[0m     \u001b[0mxp\u001b[0m\u001b[0;34m,\u001b[0m \u001b[0m_\u001b[0m \u001b[0;34m=\u001b[0m \u001b[0mget_namespace\u001b[0m\u001b[0;34m(\u001b[0m\u001b[0my\u001b[0m\u001b[0;34m)\u001b[0m\u001b[0;34m\u001b[0m\u001b[0;34m\u001b[0m\u001b[0m\n\u001b[0;32m-> 1456\u001b[0;31m     y = check_array(\n\u001b[0m\u001b[1;32m   1457\u001b[0m         \u001b[0my\u001b[0m\u001b[0;34m,\u001b[0m\u001b[0;34m\u001b[0m\u001b[0;34m\u001b[0m\u001b[0m\n\u001b[1;32m   1458\u001b[0m         \u001b[0mensure_2d\u001b[0m\u001b[0;34m=\u001b[0m\u001b[0;32mFalse\u001b[0m\u001b[0;34m,\u001b[0m\u001b[0;34m\u001b[0m\u001b[0;34m\u001b[0m\u001b[0m\n",
            "\u001b[0;32m/usr/local/lib/python3.11/dist-packages/sklearn/utils/validation.py\u001b[0m in \u001b[0;36mcheck_array\u001b[0;34m(array, accept_sparse, accept_large_sparse, dtype, order, copy, force_writeable, force_all_finite, ensure_all_finite, ensure_non_negative, ensure_2d, allow_nd, ensure_min_samples, ensure_min_features, estimator, input_name)\u001b[0m\n\u001b[1;32m   1051\u001b[0m                             \u001b[0minput_name\u001b[0m\u001b[0;34m=\u001b[0m\u001b[0minput_name\u001b[0m\u001b[0;34m,\u001b[0m\u001b[0;34m\u001b[0m\u001b[0;34m\u001b[0m\u001b[0m\n\u001b[1;32m   1052\u001b[0m                         )\n\u001b[0;32m-> 1053\u001b[0;31m                     \u001b[0marray\u001b[0m \u001b[0;34m=\u001b[0m \u001b[0mxp\u001b[0m\u001b[0;34m.\u001b[0m\u001b[0mastype\u001b[0m\u001b[0;34m(\u001b[0m\u001b[0marray\u001b[0m\u001b[0;34m,\u001b[0m \u001b[0mdtype\u001b[0m\u001b[0;34m,\u001b[0m \u001b[0mcopy\u001b[0m\u001b[0;34m=\u001b[0m\u001b[0;32mFalse\u001b[0m\u001b[0;34m)\u001b[0m\u001b[0;34m\u001b[0m\u001b[0;34m\u001b[0m\u001b[0m\n\u001b[0m\u001b[1;32m   1054\u001b[0m                 \u001b[0;32melse\u001b[0m\u001b[0;34m:\u001b[0m\u001b[0;34m\u001b[0m\u001b[0;34m\u001b[0m\u001b[0m\n\u001b[1;32m   1055\u001b[0m                     \u001b[0marray\u001b[0m \u001b[0;34m=\u001b[0m \u001b[0m_asarray_with_order\u001b[0m\u001b[0;34m(\u001b[0m\u001b[0marray\u001b[0m\u001b[0;34m,\u001b[0m \u001b[0morder\u001b[0m\u001b[0;34m=\u001b[0m\u001b[0morder\u001b[0m\u001b[0;34m,\u001b[0m \u001b[0mdtype\u001b[0m\u001b[0;34m=\u001b[0m\u001b[0mdtype\u001b[0m\u001b[0;34m,\u001b[0m \u001b[0mxp\u001b[0m\u001b[0;34m=\u001b[0m\u001b[0mxp\u001b[0m\u001b[0;34m)\u001b[0m\u001b[0;34m\u001b[0m\u001b[0;34m\u001b[0m\u001b[0m\n",
            "\u001b[0;32m/usr/local/lib/python3.11/dist-packages/sklearn/utils/_array_api.py\u001b[0m in \u001b[0;36mastype\u001b[0;34m(self, x, dtype, copy, casting)\u001b[0m\n\u001b[1;32m    397\u001b[0m     \u001b[0;32mdef\u001b[0m \u001b[0mastype\u001b[0m\u001b[0;34m(\u001b[0m\u001b[0mself\u001b[0m\u001b[0;34m,\u001b[0m \u001b[0mx\u001b[0m\u001b[0;34m,\u001b[0m \u001b[0mdtype\u001b[0m\u001b[0;34m,\u001b[0m \u001b[0;34m*\u001b[0m\u001b[0;34m,\u001b[0m \u001b[0mcopy\u001b[0m\u001b[0;34m=\u001b[0m\u001b[0;32mTrue\u001b[0m\u001b[0;34m,\u001b[0m \u001b[0mcasting\u001b[0m\u001b[0;34m=\u001b[0m\u001b[0;34m\"unsafe\"\u001b[0m\u001b[0;34m)\u001b[0m\u001b[0;34m:\u001b[0m\u001b[0;34m\u001b[0m\u001b[0;34m\u001b[0m\u001b[0m\n\u001b[1;32m    398\u001b[0m         \u001b[0;31m# astype is not defined in the top level NumPy namespace\u001b[0m\u001b[0;34m\u001b[0m\u001b[0;34m\u001b[0m\u001b[0m\n\u001b[0;32m--> 399\u001b[0;31m         \u001b[0;32mreturn\u001b[0m \u001b[0mx\u001b[0m\u001b[0;34m.\u001b[0m\u001b[0mastype\u001b[0m\u001b[0;34m(\u001b[0m\u001b[0mdtype\u001b[0m\u001b[0;34m,\u001b[0m \u001b[0mcopy\u001b[0m\u001b[0;34m=\u001b[0m\u001b[0mcopy\u001b[0m\u001b[0;34m,\u001b[0m \u001b[0mcasting\u001b[0m\u001b[0;34m=\u001b[0m\u001b[0mcasting\u001b[0m\u001b[0;34m)\u001b[0m\u001b[0;34m\u001b[0m\u001b[0;34m\u001b[0m\u001b[0m\n\u001b[0m\u001b[1;32m    400\u001b[0m \u001b[0;34m\u001b[0m\u001b[0m\n\u001b[1;32m    401\u001b[0m     \u001b[0;32mdef\u001b[0m \u001b[0masarray\u001b[0m\u001b[0;34m(\u001b[0m\u001b[0mself\u001b[0m\u001b[0;34m,\u001b[0m \u001b[0mx\u001b[0m\u001b[0;34m,\u001b[0m \u001b[0;34m*\u001b[0m\u001b[0;34m,\u001b[0m \u001b[0mdtype\u001b[0m\u001b[0;34m=\u001b[0m\u001b[0;32mNone\u001b[0m\u001b[0;34m,\u001b[0m \u001b[0mdevice\u001b[0m\u001b[0;34m=\u001b[0m\u001b[0;32mNone\u001b[0m\u001b[0;34m,\u001b[0m \u001b[0mcopy\u001b[0m\u001b[0;34m=\u001b[0m\u001b[0;32mNone\u001b[0m\u001b[0;34m)\u001b[0m\u001b[0;34m:\u001b[0m  \u001b[0;31m# noqa\u001b[0m\u001b[0;34m\u001b[0m\u001b[0;34m\u001b[0m\u001b[0m\n",
            "\u001b[0;31mValueError\u001b[0m: invalid literal for int() with base 10: 'udp'"
          ]
        }
      ]
    },
    {
      "cell_type": "markdown",
      "metadata": {
        "id": "IeT8ObBPH72S"
      },
      "source": [
        "# 2. Model Development\n",
        "#### First we need to split the data into Training Data and Testing Data."
      ]
    },
    {
      "cell_type": "code",
      "execution_count": null,
      "metadata": {
        "colab": {
          "base_uri": "https://localhost:8080/"
        },
        "id": "hzwacY2cqvqp",
        "outputId": "18d9d86f-85c6-49e7-af3f-a5ddd04bbe8e"
      },
      "outputs": [
        {
          "output_type": "stream",
          "name": "stdout",
          "text": [
            "Class Distribution BEFORE Splitting:\n",
            "Target\n",
            "1    340064\n",
            "0    238045\n",
            "Name: count, dtype: int64\n",
            "\n",
            "Class Distribution in Training Set:\n",
            "Target\n",
            "1    272051\n",
            "0    190436\n",
            "Name: count, dtype: int64\n",
            "\n",
            "Class Distribution in Testing Set:\n",
            "Target\n",
            "1    68013\n",
            "0    47609\n",
            "Name: count, dtype: int64\n",
            "\n",
            "Dataset Shapes:\n",
            " Training Data: 462487 samples\n",
            " Testing Data: 115622 samples\n"
          ]
        }
      ],
      "source": [
        "from sklearn.model_selection import train_test_split\n",
        "\n",
        "# Display class distribution before splitting\n",
        "print(\"Class Distribution BEFORE Splitting:\")\n",
        "print(y_resampled.value_counts())\n",
        "\n",
        "# Perform Stratified Train-Test Split (Keeps Class Proportions Consistent)\n",
        "x_train, x_test, y_train, y_test = train_test_split(\n",
        "    X_resampled,\n",
        "    y_resampled,\n",
        "    test_size=0.2,           # 20% of data will be for testing\n",
        "    stratify=y_resampled,    # Ensures balanced class proportions in train & test\n",
        "    random_state=42          # For reproducibility\n",
        ")\n",
        "\n",
        "# Display class distribution after splitting\n",
        "print(\"\\nClass Distribution in Training Set:\")\n",
        "print(y_train.value_counts())\n",
        "\n",
        "print(\"\\nClass Distribution in Testing Set:\")\n",
        "print(y_test.value_counts())\n",
        "\n",
        "#  Print dataset shapes\n",
        "print(\"\\nDataset Shapes:\")\n",
        "print(f\" Training Data: {x_train.shape[0]} samples\")\n",
        "print(f\" Testing Data: {x_test.shape[0]} samples\")\n"
      ]
    },
    {
      "cell_type": "markdown",
      "metadata": {
        "id": "eGZZqvf7L8cc"
      },
      "source": [
        "## 2.1 Supervised Learning\n",
        "### 2.1.1 Decision Trees\n",
        "Using Training Data"
      ]
    },
    {
      "cell_type": "code",
      "execution_count": null,
      "metadata": {
        "colab": {
          "base_uri": "https://localhost:8080/"
        },
        "id": "IA_h_GyPMQkW",
        "outputId": "2fff4a8a-f830-4bbc-ac38-48fd6218984f"
      },
      "outputs": [
        {
          "output_type": "stream",
          "name": "stdout",
          "text": [
            "Decision Tree Model Performance:\n",
            "              precision    recall  f1-score   support\n",
            "\n",
            "           0       0.99      0.86      0.92     47609\n",
            "           1       0.91      0.99      0.95     68013\n",
            "\n",
            "    accuracy                           0.94    115622\n",
            "   macro avg       0.95      0.92      0.93    115622\n",
            "weighted avg       0.94      0.94      0.94    115622\n",
            "\n"
          ]
        }
      ],
      "source": [
        "from sklearn.tree import DecisionTreeClassifier\n",
        "from sklearn.metrics import classification_report\n",
        "\n",
        "# Initialize Decision Tree with regularization\n",
        "dt_model = DecisionTreeClassifier(\n",
        "    max_depth=8,                # Prevents excessive depth (overfitting)\n",
        "    min_samples_split=100,      # Requires 100 samples to split a node\n",
        "    min_samples_leaf=50,        # Requires at least 50 samples per leaf\n",
        "    ccp_alpha=0.1,             # Pruning to remove weak branches\n",
        "    random_state=42\n",
        ")\n",
        "\n",
        "# Train the model\n",
        "dt_model.fit(x_train, y_train)\n",
        "\n",
        "# Make predictions\n",
        "y_pred_dt = dt_model.predict(x_test)\n",
        "\n",
        "# Evaluate model performance\n",
        "print(\"Decision Tree Model Performance:\")\n",
        "print(classification_report(y_test, y_pred_dt))\n",
        "\n"
      ]
    },
    {
      "cell_type": "markdown",
      "metadata": {
        "id": "Zf3gDz41QrkH"
      },
      "source": [
        "### 2.1.2 Random Forests"
      ]
    },
    {
      "cell_type": "code",
      "execution_count": null,
      "metadata": {
        "colab": {
          "base_uri": "https://localhost:8080/"
        },
        "id": "auV795U1Qxoo",
        "outputId": "263b2f7d-55d3-41ab-f2cc-f39f4508a951"
      },
      "outputs": [
        {
          "output_type": "stream",
          "name": "stdout",
          "text": [
            "Random Forest Model Performance:\n",
            "              precision    recall  f1-score   support\n",
            "\n",
            "           0       1.00      1.00      1.00     47609\n",
            "           1       1.00      1.00      1.00     68013\n",
            "\n",
            "    accuracy                           1.00    115622\n",
            "   macro avg       1.00      1.00      1.00    115622\n",
            "weighted avg       1.00      1.00      1.00    115622\n",
            "\n"
          ]
        }
      ],
      "source": [
        "rf_model = RandomForestClassifier(n_estimators=100, random_state=42)\n",
        "rf_model.fit(x_train, y_train)\n",
        "\n",
        "y_pred_rf = rf_model.predict(x_test)\n",
        "\n",
        "print(\"Random Forest Model Performance:\")\n",
        "print(classification_report(y_test, y_pred_rf))\n"
      ]
    },
    {
      "cell_type": "markdown",
      "metadata": {
        "id": "ohfwjqIxR06g"
      },
      "source": [
        "Check if there is over-fitting.\n",
        "*   If cross-validation accuracy drops, model is overfitting.\n",
        "*   If it stays near 100%, then the dataset is probably easy to classify.\n",
        "\n",
        "\n"
      ]
    },
    {
      "cell_type": "code",
      "execution_count": null,
      "metadata": {
        "colab": {
          "base_uri": "https://localhost:8080/"
        },
        "id": "okmfXczNRjbg",
        "outputId": "3c6fd0f5-c613-411b-e6c5-0d3ba6ff344b"
      },
      "outputs": [
        {
          "output_type": "stream",
          "name": "stdout",
          "text": [
            "Cross-Validation Accuracy Scores: [0.99987027 0.99982702 0.99982702 0.99974053 0.99984864]\n",
            "Mean CV Accuracy: 0.9998\n"
          ]
        }
      ],
      "source": [
        "from sklearn.model_selection import cross_val_score\n",
        "\n",
        "cv_scores = cross_val_score(rf_model, x_train, y_train, cv=5, scoring='accuracy')\n",
        "\n",
        "print(f\"Cross-Validation Accuracy Scores: {cv_scores}\")\n",
        "print(f\"Mean CV Accuracy: {cv_scores.mean():.4f}\")\n"
      ]
    },
    {
      "cell_type": "markdown",
      "metadata": {
        "id": "FaBhVotBSq1G"
      },
      "source": [
        "### 2.1.3 Support Vector Machines (SVM)"
      ]
    },
    {
      "cell_type": "code",
      "execution_count": null,
      "metadata": {
        "id": "v-Gpr2O0TA8W"
      },
      "outputs": [],
      "source": [
        "svm_model = SVC(kernel='linear')\n",
        "svm_model.fit(x_train, y_train)\n",
        "\n",
        "y_pred_svm = svm_model.predict(x_test)\n",
        "\n",
        "print(\"Support Vector Machine (SVM) Model Performance:\")\n",
        "print(classification_report(y_test, y_pred_svm))\n"
      ]
    },
    {
      "cell_type": "markdown",
      "source": [
        "2.1.4 Isolation Forest (UnSupervised Learning)"
      ],
      "metadata": {
        "id": "StpKB6RYLZQr"
      }
    },
    {
      "cell_type": "code",
      "source": [
        "# Train on only normal samples\n",
        "normal_mask = y_train == 0\n",
        "x_train_normal = x_train[normal_mask]\n",
        "\n",
        "iso_forest = IsolationForest(\n",
        "    n_estimators=100,\n",
        "    contamination=0.2,\n",
        "    random_state=42\n",
        ")\n",
        "iso_forest.fit(x_train_normal)\n",
        "\n",
        "# Predict on the test set\n",
        "y_pred_iso = iso_forest.predict(x_test)\n",
        "y_pred_iso_adjusted = np.where(y_pred_iso == 1, 0, 1)  # Matching the labels with 1 = 0 and -1 = 1\n",
        "\n",
        "print(\"Isolation Forest Model Performance:\")\n",
        "print(classification_report(y_test, y_pred_iso_adjusted))\n",
        "\n",
        "anomaly_ratio = sum(y_train) / len(y_train)\n",
        "print(f\"Anomaly proportion in training set: {anomaly_ratio:.2%}\")"
      ],
      "metadata": {
        "colab": {
          "base_uri": "https://localhost:8080/"
        },
        "id": "or22D4nLLh00",
        "outputId": "83dd1e18-a953-4126-e88e-413e887964e1"
      },
      "execution_count": null,
      "outputs": [
        {
          "output_type": "stream",
          "name": "stdout",
          "text": [
            "Isolation Forest Model Performance:\n",
            "              precision    recall  f1-score   support\n",
            "\n",
            "           0       0.99      0.79      0.88     47609\n",
            "           1       0.87      1.00      0.93     68013\n",
            "\n",
            "    accuracy                           0.91    115622\n",
            "   macro avg       0.93      0.90      0.91    115622\n",
            "weighted avg       0.92      0.91      0.91    115622\n",
            "\n",
            "Anomaly proportion in training set: 58.82%\n"
          ]
        }
      ]
    }
  ],
  "metadata": {
    "colab": {
      "provenance": [],
      "include_colab_link": true
    },
    "kernelspec": {
      "display_name": "Python 3",
      "name": "python3"
    },
    "language_info": {
      "name": "python"
    }
  },
  "nbformat": 4,
  "nbformat_minor": 0
}